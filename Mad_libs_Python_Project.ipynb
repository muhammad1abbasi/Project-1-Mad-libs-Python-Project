{
  "nbformat": 4,
  "nbformat_minor": 0,
  "metadata": {
    "colab": {
      "provenance": [],
      "authorship_tag": "ABX9TyOVXl8uIKhllxep/Tm0VFvU",
      "include_colab_link": true
    },
    "kernelspec": {
      "name": "python3",
      "display_name": "Python 3"
    },
    "language_info": {
      "name": "python"
    }
  },
  "cells": [
    {
      "cell_type": "markdown",
      "metadata": {
        "id": "view-in-github",
        "colab_type": "text"
      },
      "source": [
        "<a href=\"https://colab.research.google.com/github/muhammad1abbasi/Project-1-Mad-libs-Python-Project/blob/main/Mad_libs_Python_Project.ipynb\" target=\"_parent\"><img src=\"https://colab.research.google.com/assets/colab-badge.svg\" alt=\"Open In Colab\"/></a>"
      ]
    },
    {
      "cell_type": "markdown",
      "source": [
        "1: Mad libs Python Project"
      ],
      "metadata": {
        "id": "Tc7oqi4VByoh"
      }
    },
    {
      "cell_type": "code",
      "execution_count": null,
      "metadata": {
        "colab": {
          "base_uri": "https://localhost:8080/"
        },
        "id": "5t5J-bO8Bp9G",
        "outputId": "ced7a690-0bf7-4693-a6af-08459fbb9f72"
      },
      "outputs": [
        {
          "output_type": "stream",
          "name": "stdout",
          "text": [
            "Welcome to Mad Libs! Fill in the blanks below:\n"
          ]
        }
      ],
      "source": [
        "def main():\n",
        "  print(\"Welcome to Mad Libs! Fill in the blanks below:\")\n",
        "\n",
        "  adjective = input(\"Enter an adjective:\")\n",
        "  noun = input(\"Enter a noun:\")\n",
        "  verb = input(\"Enter a verb:\")\n",
        "  place = input(\"Enter a place:\")\n",
        "\n",
        "  story = f\"Today, I went to the {place} and saw a very {adjective} {noun} It was trying to {verb}!\"\n",
        "\n",
        "  print(\"\\n Here is your Mad Libs story:\")\n",
        "  print(story)\n",
        "\n",
        "if __name__ == \"__main__\":\n",
        "  main()"
      ]
    }
  ]
}